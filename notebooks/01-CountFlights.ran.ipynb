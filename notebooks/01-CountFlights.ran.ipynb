{
 "cells": [
  {
   "cell_type": "code",
   "execution_count": 1,
   "metadata": {
    "papermill": {
     "duration": 0.437318,
     "end_time": "2020-01-21T18:55:55.254298",
     "exception": false,
     "start_time": "2020-01-21T18:55:54.816980",
     "status": "completed"
    },
    "tags": []
   },
   "outputs": [],
   "source": [
    "import pandas as pd"
   ]
  },
  {
   "cell_type": "markdown",
   "metadata": {
    "papermill": {
     "duration": 0.007016,
     "end_time": "2020-01-21T18:55:55.277438",
     "exception": false,
     "start_time": "2020-01-21T18:55:55.270422",
     "status": "completed"
    },
    "tags": []
   },
   "source": [
    "# Set Papermill Variables"
   ]
  },
  {
   "cell_type": "code",
   "execution_count": 2,
   "metadata": {
    "papermill": {
     "duration": 0.017199,
     "end_time": "2020-01-21T18:55:55.299996",
     "exception": false,
     "start_time": "2020-01-21T18:55:55.282797",
     "status": "completed"
    },
    "tags": [
     "parameters"
    ]
   },
   "outputs": [],
   "source": [
    "input_path = \"../data/output/2019-01-flights-filtered.csv\"\n",
    "output_path = \"../data/output/2019-01-flights-count.txt\""
   ]
  },
  {
   "cell_type": "code",
   "execution_count": 3,
   "metadata": {
    "papermill": {
     "duration": 0.017796,
     "end_time": "2020-01-21T18:55:55.324047",
     "exception": false,
     "start_time": "2020-01-21T18:55:55.306251",
     "status": "completed"
    },
    "tags": [
     "injected-parameters"
    ]
   },
   "outputs": [],
   "source": [
    "# Parameters\n",
    "input_path = \"data/output/2019-01-flights-filtered.csv\"\n",
    "output_path = \"data/output/2019-01-flights-count.txt\"\n"
   ]
  },
  {
   "cell_type": "markdown",
   "metadata": {
    "papermill": {
     "duration": 0.005799,
     "end_time": "2020-01-21T18:55:55.336020",
     "exception": false,
     "start_time": "2020-01-21T18:55:55.330221",
     "status": "completed"
    },
    "tags": []
   },
   "source": [
    "# Read in the flights to AUS"
   ]
  },
  {
   "cell_type": "code",
   "execution_count": 4,
   "metadata": {
    "papermill": {
     "duration": 0.081819,
     "end_time": "2020-01-21T18:55:55.423141",
     "exception": false,
     "start_time": "2020-01-21T18:55:55.341322",
     "status": "completed"
    },
    "tags": []
   },
   "outputs": [
    {
     "data": {
      "text/html": [
       "<div>\n",
       "<style scoped>\n",
       "    .dataframe tbody tr th:only-of-type {\n",
       "        vertical-align: middle;\n",
       "    }\n",
       "\n",
       "    .dataframe tbody tr th {\n",
       "        vertical-align: top;\n",
       "    }\n",
       "\n",
       "    .dataframe thead th {\n",
       "        text-align: right;\n",
       "    }\n",
       "</style>\n",
       "<table border=\"1\" class=\"dataframe\">\n",
       "  <thead>\n",
       "    <tr style=\"text-align: right;\">\n",
       "      <th></th>\n",
       "      <th>FL_DATE</th>\n",
       "      <th>OP_CARRIER</th>\n",
       "      <th>ORIGIN</th>\n",
       "      <th>DEST</th>\n",
       "      <th>CRS_DEP_TIME</th>\n",
       "      <th>DEP_TIME</th>\n",
       "      <th>CRS_ARR_TIME</th>\n",
       "      <th>ARR_TIME</th>\n",
       "      <th>CANCELLED</th>\n",
       "      <th>CANCELLATION_CODE</th>\n",
       "      <th>DIVERTED</th>\n",
       "      <th>CARRIER_DELAY</th>\n",
       "      <th>WEATHER_DELAY</th>\n",
       "      <th>NAS_DELAY</th>\n",
       "      <th>SECURITY_DELAY</th>\n",
       "      <th>LATE_AIRCRAFT_DELAY</th>\n",
       "      <th>Unnamed: 16</th>\n",
       "    </tr>\n",
       "  </thead>\n",
       "  <tbody>\n",
       "    <tr>\n",
       "      <th>0</th>\n",
       "      <td>2019-01-01</td>\n",
       "      <td>AA</td>\n",
       "      <td>LAX</td>\n",
       "      <td>DFW</td>\n",
       "      <td>1510</td>\n",
       "      <td>1531.0</td>\n",
       "      <td>2006</td>\n",
       "      <td>2018.0</td>\n",
       "      <td>0.0</td>\n",
       "      <td>NaN</td>\n",
       "      <td>0.0</td>\n",
       "      <td>NaN</td>\n",
       "      <td>NaN</td>\n",
       "      <td>NaN</td>\n",
       "      <td>NaN</td>\n",
       "      <td>NaN</td>\n",
       "      <td>NaN</td>\n",
       "    </tr>\n",
       "    <tr>\n",
       "      <th>1</th>\n",
       "      <td>2019-01-01</td>\n",
       "      <td>AA</td>\n",
       "      <td>BNA</td>\n",
       "      <td>DFW</td>\n",
       "      <td>1715</td>\n",
       "      <td>1713.0</td>\n",
       "      <td>1931</td>\n",
       "      <td>1923.0</td>\n",
       "      <td>0.0</td>\n",
       "      <td>NaN</td>\n",
       "      <td>0.0</td>\n",
       "      <td>NaN</td>\n",
       "      <td>NaN</td>\n",
       "      <td>NaN</td>\n",
       "      <td>NaN</td>\n",
       "      <td>NaN</td>\n",
       "      <td>NaN</td>\n",
       "    </tr>\n",
       "    <tr>\n",
       "      <th>2</th>\n",
       "      <td>2019-01-01</td>\n",
       "      <td>AA</td>\n",
       "      <td>CMH</td>\n",
       "      <td>DFW</td>\n",
       "      <td>1140</td>\n",
       "      <td>1143.0</td>\n",
       "      <td>1338</td>\n",
       "      <td>1344.0</td>\n",
       "      <td>0.0</td>\n",
       "      <td>NaN</td>\n",
       "      <td>0.0</td>\n",
       "      <td>NaN</td>\n",
       "      <td>NaN</td>\n",
       "      <td>NaN</td>\n",
       "      <td>NaN</td>\n",
       "      <td>NaN</td>\n",
       "      <td>NaN</td>\n",
       "    </tr>\n",
       "    <tr>\n",
       "      <th>3</th>\n",
       "      <td>2019-01-01</td>\n",
       "      <td>AA</td>\n",
       "      <td>JAX</td>\n",
       "      <td>DFW</td>\n",
       "      <td>750</td>\n",
       "      <td>745.0</td>\n",
       "      <td>950</td>\n",
       "      <td>931.0</td>\n",
       "      <td>0.0</td>\n",
       "      <td>NaN</td>\n",
       "      <td>0.0</td>\n",
       "      <td>NaN</td>\n",
       "      <td>NaN</td>\n",
       "      <td>NaN</td>\n",
       "      <td>NaN</td>\n",
       "      <td>NaN</td>\n",
       "      <td>NaN</td>\n",
       "    </tr>\n",
       "    <tr>\n",
       "      <th>4</th>\n",
       "      <td>2019-01-01</td>\n",
       "      <td>AA</td>\n",
       "      <td>STL</td>\n",
       "      <td>DFW</td>\n",
       "      <td>1134</td>\n",
       "      <td>1130.0</td>\n",
       "      <td>1334</td>\n",
       "      <td>1323.0</td>\n",
       "      <td>0.0</td>\n",
       "      <td>NaN</td>\n",
       "      <td>0.0</td>\n",
       "      <td>NaN</td>\n",
       "      <td>NaN</td>\n",
       "      <td>NaN</td>\n",
       "      <td>NaN</td>\n",
       "      <td>NaN</td>\n",
       "      <td>NaN</td>\n",
       "    </tr>\n",
       "  </tbody>\n",
       "</table>\n",
       "</div>"
      ],
      "text/plain": [
       "      FL_DATE OP_CARRIER ORIGIN DEST  CRS_DEP_TIME  DEP_TIME  CRS_ARR_TIME  \\\n",
       "0  2019-01-01         AA    LAX  DFW          1510    1531.0          2006   \n",
       "1  2019-01-01         AA    BNA  DFW          1715    1713.0          1931   \n",
       "2  2019-01-01         AA    CMH  DFW          1140    1143.0          1338   \n",
       "3  2019-01-01         AA    JAX  DFW           750     745.0           950   \n",
       "4  2019-01-01         AA    STL  DFW          1134    1130.0          1334   \n",
       "\n",
       "   ARR_TIME  CANCELLED CANCELLATION_CODE  DIVERTED  CARRIER_DELAY  \\\n",
       "0    2018.0        0.0               NaN       0.0            NaN   \n",
       "1    1923.0        0.0               NaN       0.0            NaN   \n",
       "2    1344.0        0.0               NaN       0.0            NaN   \n",
       "3     931.0        0.0               NaN       0.0            NaN   \n",
       "4    1323.0        0.0               NaN       0.0            NaN   \n",
       "\n",
       "   WEATHER_DELAY  NAS_DELAY  SECURITY_DELAY  LATE_AIRCRAFT_DELAY  Unnamed: 16  \n",
       "0            NaN        NaN             NaN                  NaN          NaN  \n",
       "1            NaN        NaN             NaN                  NaN          NaN  \n",
       "2            NaN        NaN             NaN                  NaN          NaN  \n",
       "3            NaN        NaN             NaN                  NaN          NaN  \n",
       "4            NaN        NaN             NaN                  NaN          NaN  "
      ]
     },
     "execution_count": 4,
     "metadata": {},
     "output_type": "execute_result"
    }
   ],
   "source": [
    "df = pd.read_csv(input_path)\n",
    "df.head()"
   ]
  },
  {
   "cell_type": "markdown",
   "metadata": {
    "papermill": {
     "duration": 0.007911,
     "end_time": "2020-01-21T18:55:55.445183",
     "exception": false,
     "start_time": "2020-01-21T18:55:55.437272",
     "status": "completed"
    },
    "tags": []
   },
   "source": [
    "# Count flights"
   ]
  },
  {
   "cell_type": "code",
   "execution_count": 5,
   "metadata": {
    "papermill": {
     "duration": 0.017113,
     "end_time": "2020-01-21T18:55:55.468858",
     "exception": false,
     "start_time": "2020-01-21T18:55:55.451745",
     "status": "completed"
    },
    "tags": []
   },
   "outputs": [],
   "source": [
    "flights_count = len(df)"
   ]
  },
  {
   "cell_type": "code",
   "execution_count": 6,
   "metadata": {
    "papermill": {
     "duration": 0.021721,
     "end_time": "2020-01-21T18:55:55.497147",
     "exception": false,
     "start_time": "2020-01-21T18:55:55.475426",
     "status": "completed"
    },
    "tags": []
   },
   "outputs": [
    {
     "name": "stdout",
     "output_type": "stream",
     "text": [
      "There were 23078 flights to Austin, TX in Jan 2019.\n",
      "\n"
     ]
    }
   ],
   "source": [
    "result = \"There were {} flights to Austin, TX in Jan 2019.\\n\".format(flights_count)\n",
    "print(result)"
   ]
  },
  {
   "cell_type": "markdown",
   "metadata": {
    "papermill": {
     "duration": 0.007608,
     "end_time": "2020-01-21T18:55:55.513398",
     "exception": false,
     "start_time": "2020-01-21T18:55:55.505790",
     "status": "completed"
    },
    "tags": []
   },
   "source": [
    "# Save the result\n",
    "\n",
    "**Only execute in papermill!** This line is for papermill to save the result."
   ]
  },
  {
   "cell_type": "code",
   "execution_count": 7,
   "metadata": {
    "papermill": {
     "duration": 0.018872,
     "end_time": "2020-01-21T18:55:55.538083",
     "exception": false,
     "start_time": "2020-01-21T18:55:55.519211",
     "status": "completed"
    },
    "tags": []
   },
   "outputs": [],
   "source": [
    "with open(output_path, 'w') as f:\n",
    "    f.write(result)"
   ]
  }
 ],
 "metadata": {
  "kernelspec": {
   "display_name": "Python 3",
   "language": "python",
   "name": "python3"
  },
  "language_info": {
   "codemirror_mode": {
    "name": "ipython",
    "version": 3
   },
   "file_extension": ".py",
   "mimetype": "text/x-python",
   "name": "python",
   "nbconvert_exporter": "python",
   "pygments_lexer": "ipython3",
   "version": "3.7.3"
  },
  "papermill": {
   "duration": 1.740146,
   "end_time": "2020-01-21T18:55:55.857452",
   "environment_variables": {},
   "exception": null,
   "input_path": "notebooks/01-CountFlights.ipynb",
   "output_path": "notebooks/01-CountFlights.ran.ipynb",
   "parameters": {
    "input_path": "data/output/2019-01-flights-filtered.csv",
    "output_path": "data/output/2019-01-flights-count.txt"
   },
   "start_time": "2020-01-21T18:55:54.117306",
   "version": "1.2.1"
  }
 },
 "nbformat": 4,
 "nbformat_minor": 2
}